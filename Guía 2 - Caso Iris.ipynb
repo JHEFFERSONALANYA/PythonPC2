{
 "cells": [
  {
   "cell_type": "raw",
   "id": "847b56bf",
   "metadata": {},
   "source": [
    "Universidad de Lima\n",
    "Facultad de Ingeniería\n",
    "Carrera de Ingeniería Industrial\n",
    "Área Académica : Análisis de Datos y Optimización de Procesos\n",
    "Asignatura : Herramientas de Análisis de datos\n",
    "Guía 2 - Machine Learning con Python\n",
    "Ciclo - 2024 1\n",
    "Profesores responsables :\n",
    "Sanchez Tenorio,Viviana (coordinadora)\n",
    "García Vilcapoma,Gladys"
   ]
  },
  {
   "cell_type": "code",
   "execution_count": 1,
   "id": "9fb8bba4",
   "metadata": {},
   "outputs": [],
   "source": [
    "import pandas as pd\n",
    "import  numpy as np\n",
    "import matplotlib.pyplot as plt\n",
    "import seaborn as sns\n",
    "\n",
    "#lIBRERÍAS ML \n",
    "#Aprendizaje supervisado : cuando se busca predecir \n",
    "#La clase train_test_split divide el dataset de forma aleatoria en datos de entrenamiento y datos de prueba\n",
    "from sklearn.model_selection import train_test_split\n",
    "\n",
    "#Predecir la especie de la flor Iris\n",
    "#Algoritmo 1 :  Bosque aleatorio  -   RandomForestClassifier(n_estimators=100,random_state=42)\n",
    "from sklearn.ensemble import RandomForestClassifier  \n",
    "\n",
    "#Algoritmo 2    Regresión Logística  -  LogisticRegression(random_state=42, max_iter=200)\n",
    "from  sklearn.linear_model import LogisticRegression   \n",
    "\n",
    "#Algoritmo 3    Máquinas de vectores de soporte  -  SVC(random_state=42)\n",
    "from sklearn.svm  import SVC\n",
    "\n",
    " \n",
    "#Algoritmo 4    Vecinos Más Cercanos  -   KNeighborsClassifier(n_neighbors=5)\n",
    "from sklearn.neighbors import KNeighborsClassifier\n",
    "\n",
    "\n",
    "#Algoritmo 5   Arboles de decisión para clasificación - DecisionTreeClassifier(random_state=42)\n",
    "from sklearn.tree import DecisionTreeClassifier\n",
    "    \n",
    "#Métricas\n",
    "from sklearn.metrics import accuracy_score, confusion_matrix, ConfusionMatrixDisplay"
   ]
  },
  {
   "cell_type": "code",
   "execution_count": 2,
   "id": "0bcc980e",
   "metadata": {},
   "outputs": [],
   "source": [
    "#1)Cargar el dataset\n",
    "df = pd.read_csv( \"iris.csv\" )"
   ]
  },
  {
   "cell_type": "code",
   "execution_count": 4,
   "id": "358453c0",
   "metadata": {},
   "outputs": [
    {
     "name": "stdout",
     "output_type": "stream",
     "text": [
      "<class 'pandas.core.frame.DataFrame'>\n",
      "RangeIndex: 150 entries, 0 to 149\n",
      "Data columns (total 5 columns):\n",
      " #   Column        Non-Null Count  Dtype  \n",
      "---  ------        --------------  -----  \n",
      " 0   sepal_length  150 non-null    float64\n",
      " 1   sepal_width   148 non-null    float64\n",
      " 2   petal_length  150 non-null    float64\n",
      " 3   petal_width   147 non-null    float64\n",
      " 4   species       150 non-null    object \n",
      "dtypes: float64(4), object(1)\n",
      "memory usage: 6.0+ KB\n"
     ]
    }
   ],
   "source": [
    "#2)Exploración Inicial del Dataset\n",
    "df.info()"
   ]
  },
  {
   "cell_type": "code",
   "execution_count": 8,
   "id": "02fb13ec",
   "metadata": {},
   "outputs": [
    {
     "name": "stdout",
     "output_type": "stream",
     "text": [
      "['Iris-setosa' 'Iris-versicolor' 'Iris-virginica']\n",
      "\n",
      "species\n",
      "Iris-setosa        50\n",
      "Iris-versicolor    50\n",
      "Iris-virginica     50\n",
      "Name: count, dtype: int64\n"
     ]
    }
   ],
   "source": [
    "#3)Qué valores toma la variable dependiente ( variable que se desea predecir,variable objetivo o variable target)\n",
    "\n",
    "print( df[ \"species\" ].unique() )\n",
    "print()\n",
    "print( df[ \"species\" ].value_counts()  )\n"
   ]
  },
  {
   "cell_type": "markdown",
   "id": "0a279415-f047-48c5-ae9d-3e72869251e9",
   "metadata": {},
   "source": [
    "# PREPARAR (PRE PROCESAMIENTO) LOS DATOS"
   ]
  },
  {
   "cell_type": "code",
   "execution_count": 11,
   "id": "06f737d1",
   "metadata": {},
   "outputs": [
    {
     "data": {
      "text/html": [
       "<div>\n",
       "<style scoped>\n",
       "    .dataframe tbody tr th:only-of-type {\n",
       "        vertical-align: middle;\n",
       "    }\n",
       "\n",
       "    .dataframe tbody tr th {\n",
       "        vertical-align: top;\n",
       "    }\n",
       "\n",
       "    .dataframe thead th {\n",
       "        text-align: right;\n",
       "    }\n",
       "</style>\n",
       "<table border=\"1\" class=\"dataframe\">\n",
       "  <thead>\n",
       "    <tr style=\"text-align: right;\">\n",
       "      <th></th>\n",
       "      <th>sepal_length</th>\n",
       "      <th>sepal_width</th>\n",
       "      <th>petal_length</th>\n",
       "      <th>petal_width</th>\n",
       "    </tr>\n",
       "  </thead>\n",
       "  <tbody>\n",
       "    <tr>\n",
       "      <th>count</th>\n",
       "      <td>150.000000</td>\n",
       "      <td>148.000000</td>\n",
       "      <td>150.000000</td>\n",
       "      <td>147.000000</td>\n",
       "    </tr>\n",
       "    <tr>\n",
       "      <th>mean</th>\n",
       "      <td>5.843333</td>\n",
       "      <td>3.045946</td>\n",
       "      <td>3.758667</td>\n",
       "      <td>1.195238</td>\n",
       "    </tr>\n",
       "    <tr>\n",
       "      <th>std</th>\n",
       "      <td>0.828066</td>\n",
       "      <td>0.430532</td>\n",
       "      <td>1.764420</td>\n",
       "      <td>0.761247</td>\n",
       "    </tr>\n",
       "    <tr>\n",
       "      <th>min</th>\n",
       "      <td>4.300000</td>\n",
       "      <td>2.000000</td>\n",
       "      <td>1.000000</td>\n",
       "      <td>0.100000</td>\n",
       "    </tr>\n",
       "    <tr>\n",
       "      <th>25%</th>\n",
       "      <td>5.100000</td>\n",
       "      <td>2.800000</td>\n",
       "      <td>1.600000</td>\n",
       "      <td>0.300000</td>\n",
       "    </tr>\n",
       "    <tr>\n",
       "      <th>50%</th>\n",
       "      <td>5.800000</td>\n",
       "      <td>3.000000</td>\n",
       "      <td>4.350000</td>\n",
       "      <td>1.300000</td>\n",
       "    </tr>\n",
       "    <tr>\n",
       "      <th>75%</th>\n",
       "      <td>6.400000</td>\n",
       "      <td>3.300000</td>\n",
       "      <td>5.100000</td>\n",
       "      <td>1.800000</td>\n",
       "    </tr>\n",
       "    <tr>\n",
       "      <th>max</th>\n",
       "      <td>7.900000</td>\n",
       "      <td>4.400000</td>\n",
       "      <td>6.900000</td>\n",
       "      <td>2.500000</td>\n",
       "    </tr>\n",
       "  </tbody>\n",
       "</table>\n",
       "</div>"
      ],
      "text/plain": [
       "       sepal_length  sepal_width  petal_length  petal_width\n",
       "count    150.000000   148.000000    150.000000   147.000000\n",
       "mean       5.843333     3.045946      3.758667     1.195238\n",
       "std        0.828066     0.430532      1.764420     0.761247\n",
       "min        4.300000     2.000000      1.000000     0.100000\n",
       "25%        5.100000     2.800000      1.600000     0.300000\n",
       "50%        5.800000     3.000000      4.350000     1.300000\n",
       "75%        6.400000     3.300000      5.100000     1.800000\n",
       "max        7.900000     4.400000      6.900000     2.500000"
      ]
     },
     "execution_count": 11,
     "metadata": {},
     "output_type": "execute_result"
    }
   ],
   "source": [
    "#4)Cantidad de nulos\n",
    "df.isnull().sum()\n",
    "\n",
    "df.describe()"
   ]
  },
  {
   "cell_type": "code",
   "execution_count": 10,
   "id": "dfd5ab3d-75de-444a-9fdd-fbc88036099c",
   "metadata": {},
   "outputs": [
    {
     "data": {
      "text/plain": [
       "<Axes: xlabel='sepal_width', ylabel='Count'>"
      ]
     },
     "execution_count": 10,
     "metadata": {},
     "output_type": "execute_result"
    },
    {
     "data": {
      "image/png": "[encoded data removed]",
      "text/plain": [
       "<Figure size 640x480 with 1 Axes>"
      ]
     },
     "metadata": {},
     "output_type": "display_data"
    }
   ],
   "source": [
    "#5) Limpieza de datos :variables tipo numéricas\n",
    "#Reemplazar los nulos con la media,mediana o moda\n",
    "#5A) SepalWidthCm          2 nulos\n",
    "sns.histplot( data = df, x = \"sepal_width\" )"
   ]
  },
  {
   "cell_type": "code",
   "execution_count": 14,
   "id": "c87d8867-1608-4599-96e5-9cc034758f49",
   "metadata": {},
   "outputs": [
    {
     "name": "stdout",
     "output_type": "stream",
     "text": [
      "Mediana =  3.0\n",
      "promedio =  3.0459459459459466\n",
      "moda =  3.0\n",
      "sepal_length    0\n",
      "sepal_width     0\n",
      "petal_length    0\n",
      "petal_width     3\n",
      "species         0\n",
      "dtype: int64\n"
     ]
    }
   ],
   "source": [
    "# Reemplazar valores nulos con la mediana\n",
    "mediana_sepal_width = df[ \"sepal_width\" ].median()\n",
    "promedio_sepal_width = df[ \"sepal_width\" ].mean()\n",
    "moda_sepal_width = df[ \"sepal_width\" ].mode() [0]\n",
    "\n",
    "print( \"Mediana = \", mediana_sepal_width )\n",
    "print( \"promedio = \", promedio_sepal_width )\n",
    "print( \"moda = \", moda_sepal_width )\n",
    "\n",
    "df[ \"sepal_width\" ].fillna( mediana_sepal_width, inplace = True )\n",
    "\n",
    "print( df.isnull().sum() )\n"
   ]
  },
  {
   "cell_type": "code",
   "execution_count": 16,
   "id": "af06b032-fbb5-46a0-a7db-016225cb0d51",
   "metadata": {},
   "outputs": [
    {
     "data": {
      "text/plain": [
       "<Axes: xlabel='petal_width', ylabel='Count'>"
      ]
     },
     "execution_count": 16,
     "metadata": {},
     "output_type": "execute_result"
    },
    {
     "data": {
      "image/png": "[encoded data removed]",
      "text/plain": [
       "<Figure size 640x480 with 1 Axes>"
      ]
     },
     "metadata": {},
     "output_type": "display_data"
    }
   ],
   "source": [
    "#5B)PetalWidthCm          3 nulos\n",
    "#Reemplazar los nulos con la media,mediana o moda\n",
    "sns.histplot( data = df, x = \"petal_width\", bins = 20 )"
   ]
  },
  {
   "cell_type": "code",
   "execution_count": 18,
   "id": "185b8b96-58d2-4fd5-a1c6-504a2d094243",
   "metadata": {},
   "outputs": [
    {
     "name": "stdout",
     "output_type": "stream",
     "text": [
      "Mediana =  1.3\n",
      "promedio =  1.1952380952380954\n",
      "moda =  0.2\n",
      "\n",
      "sepal_length    0\n",
      "sepal_width     0\n",
      "petal_length    0\n",
      "petal_width     0\n",
      "species         0\n",
      "dtype: int64\n"
     ]
    }
   ],
   "source": [
    "# Reemplazar valores nulos con la móda\n",
    "mediana_petal_width = df[ \"petal_width\" ].median()\n",
    "promedio_petal_width = df[ \"petal_width\" ].mean()\n",
    "moda_petal_width = df[ \"petal_width\" ].mode() [0]\n",
    "\n",
    "print( \"Mediana = \", mediana_petal_width )\n",
    "print( \"promedio = \", promedio_petal_width )\n",
    "print( \"moda = \", moda_petal_width )\n",
    "\n",
    "df[ \"petal_width\" ].fillna( moda_petal_width, inplace = True )\n",
    "\n",
    "print()\n",
    "print( df.isnull().sum() )"
   ]
  },
  {
   "cell_type": "code",
   "execution_count": 21,
   "id": "41dbf0b6-867a-4221-8cf7-3cff74a95001",
   "metadata": {},
   "outputs": [
    {
     "name": "stdout",
     "output_type": "stream",
     "text": [
      "['Iris-setosa' 'Iris-versicolor' 'Iris-virginica']\n",
      "\n",
      "[0 1 2]\n"
     ]
    }
   ],
   "source": [
    "#7) Limpieza de datos :variables categóricas( tipo object )\n",
    "print( df[\"species\"].unique( ) )\n",
    "\n",
    "df[\"species\"].replace( ['Iris-setosa', 'Iris-versicolor', 'Iris-virginica'] , [0, 1, 2], inplace = True)\n",
    "\n",
    "print()\n",
    "print( df[\"species\"].unique( ) )"
   ]
  },
  {
   "cell_type": "code",
   "execution_count": 24,
   "id": "83c8a8d2",
   "metadata": {},
   "outputs": [
    {
     "name": "stdout",
     "output_type": "stream",
     "text": [
      "x =  (150, 4)\n",
      "y =  (150,)\n",
      "x_train =  (112, 4)\n",
      "y_train =  (112,)\n",
      "x_test =  (38, 4)\n",
      "y_test =  (38,)\n"
     ]
    }
   ],
   "source": [
    "#8)Preparación de Datos para Entrenamiento y Prueba.\n",
    "\n",
    "# a) Crear un DataFrame (x) con las variables independientes (predictoras)\n",
    "x = df[ [ \"sepal_length\", \"sepal_width\", \"petal_length\", \"petal_width\"] ]\n",
    "\n",
    "# b) Crear un DataFrame (y) con la variable dependiente (target)\n",
    "y = df[\"species\"]\n",
    "\n",
    "print( \"x = \", x.shape )\n",
    "print( \"y = \", y.shape )\n",
    "\n",
    "# c) Dividir la data en datos de entrenamiento (80%) y datos de prueba (20%) con semilla fija\n",
    "x_train, x_test, y_train, y_test = train_test_split( x, y, random_state = 2 )\n",
    "\n",
    "print( \"x_train = \", x_train.shape )\n",
    "print( \"y_train = \", y_train.shape )\n",
    "print( \"x_test = \", x_test.shape )\n",
    "print( \"y_test = \", y_test.shape )\n"
   ]
  },
  {
   "cell_type": "markdown",
   "id": "28acb00d-19b0-4a33-a442-62a96e542d8c",
   "metadata": {},
   "source": [
    "# Aplicación de Algoritmos de Machine Learning"
   ]
  },
  {
   "cell_type": "code",
   "execution_count": 25,
   "id": "78b0f4f1",
   "metadata": {},
   "outputs": [],
   "source": [
    "# Creamos los modelos a utilizar\n",
    "# Crear el modelo de Bosque Aleatorio\n",
    "modelo1 = RandomForestClassifier(n_estimators=100,random_state=42)\n",
    "# Crear el modelo 2 de Regresión Logística para clasificación\n",
    "modelo2 = LogisticRegression(random_state=42, max_iter=200)\n",
    "#Crear el modelo 3 Máquinas de Vectores de Soporte\n",
    "modelo3 = SVC(random_state=42)\n",
    "# Crear el modelo 4 de Vecinos Más Cercanos (KNN)\n",
    "modelo4 = KNeighborsClassifier(n_neighbors=5)\n",
    "# Crear el modelo 5 de Árboles de Decisión\n",
    "modelo5 = DecisionTreeClassifier(random_state=42)\n"
   ]
  },
  {
   "cell_type": "code",
   "execution_count": 629,
   "id": "8fdcbc36",
   "metadata": {},
   "outputs": [],
   "source": [
    "#9A)  ALGORITMO DE MACHINE LEARNING : BOSQUE ALEATORIO - RANDON FOREST\n"
   ]
  },
  {
   "cell_type": "code",
   "execution_count": 26,
   "id": "f2a0ced4",
   "metadata": {},
   "outputs": [
    {
     "name": "stdout",
     "output_type": "stream",
     "text": [
      "[0 0 2 0 0 2 0 2 2 0 0 0 0 0 1 1 0 1 2 1 2 1 2 1 1 0 0 2 0 2 1 0 1 2 1 0 2\n",
      " 1]\n",
      "\n",
      "[0 0 2 0 0 2 0 2 2 0 0 0 0 0 1 1 0 1 2 1 1 1 2 1 1 0 0 2 0 2 2 0 1 2 1 0 2\n",
      " 1]\n"
     ]
    }
   ],
   "source": [
    "# b) Entrenar al modelo\n",
    "modelo1.fit( x_train, y_train )\n",
    "# c) Validar al modelo\n",
    "y_pred = modelo1.predict( x_test )\n",
    "\n",
    "# Mostrar las predicciones\n",
    "print( y_pred )\n",
    "print()\n",
    "print( y_test.to_numpy() )\n"
   ]
  },
  {
   "cell_type": "code",
   "execution_count": 27,
   "id": "c23a7a43",
   "metadata": {},
   "outputs": [
    {
     "data": {
      "text/plain": [
       "0.9473684210526315"
      ]
     },
     "execution_count": 27,
     "metadata": {},
     "output_type": "execute_result"
    }
   ],
   "source": [
    "# d) Métricas de Evaluación\n",
    "# d1) Exactitud del modelo\n",
    "exactitud1 = accuracy_score(y_test, y_pred)\n",
    "exactitud1"
   ]
  },
  {
   "cell_type": "code",
   "execution_count": 28,
   "id": "5cc62277",
   "metadata": {},
   "outputs": [
    {
     "data": {
      "text/plain": [
       "array([[16,  0,  0],\n",
       "       [ 0, 10,  1],\n",
       "       [ 0,  1, 10]], dtype=int64)"
      ]
     },
     "execution_count": 28,
     "metadata": {},
     "output_type": "execute_result"
    }
   ],
   "source": [
    "# d2) Crear y mostrar la matriz de confusión\n",
    "cm = confusion_matrix( y_test, y_pred )\n",
    "cm\n"
   ]
  },
  {
   "cell_type": "code",
   "execution_count": 633,
   "id": "8b567123-ccb5-4fdb-a8b6-9f7b4796da8f",
   "metadata": {},
   "outputs": [],
   "source": [
    "#9B)  ALGORITMO DE MACHINE LEARNING : REGRESIÓN LOGÍSTICA - lOGISTIC REGRESSION"
   ]
  },
  {
   "cell_type": "code",
   "execution_count": 33,
   "id": "430c53da",
   "metadata": {},
   "outputs": [
    {
     "name": "stdout",
     "output_type": "stream",
     "text": [
      "[0 0 2 0 0 2 0 2 2 0 0 0 0 0 1 1 0 1 2 1 2 1 2 1 1 0 0 2 0 2 1 0 1 2 1 0 2\n",
      " 1]\n",
      "\n",
      "[0 0 2 0 0 2 0 2 2 0 0 0 0 0 1 1 0 1 2 1 1 1 2 1 1 0 0 2 0 2 2 0 1 2 1 0 2\n",
      " 1]\n"
     ]
    }
   ],
   "source": [
    "# b) Entrenar al modelo 2\n",
    "modelo2.fit( x_train, y_train )\n",
    "\n",
    "y_pred = modelo2.predict( x_test )\n",
    "\n",
    "# Mostrar las predicciones\n",
    "print( y_pred )\n",
    "print()\n",
    "print( y_test.to_numpy() )"
   ]
  },
  {
   "cell_type": "code",
   "execution_count": 34,
   "id": "0f56f80e",
   "metadata": {},
   "outputs": [
    {
     "data": {
      "text/plain": [
       "0.9473684210526315"
      ]
     },
     "execution_count": 34,
     "metadata": {},
     "output_type": "execute_result"
    }
   ],
   "source": [
    "# d) Métricas de Evaluación\n",
    "# d1) Exactitud del modelo 2\n",
    "exactitud2 = accuracy_score(y_test, y_pred)\n",
    "exactitud2"
   ]
  },
  {
   "cell_type": "code",
   "execution_count": 35,
   "id": "ad25858a",
   "metadata": {},
   "outputs": [
    {
     "data": {
      "text/plain": [
       "array([[16,  0,  0],\n",
       "       [ 0, 10,  1],\n",
       "       [ 0,  1, 10]], dtype=int64)"
      ]
     },
     "execution_count": 35,
     "metadata": {},
     "output_type": "execute_result"
    }
   ],
   "source": [
    "# Crear la matriz de confusión\n",
    "# d2) Crear y mostrar la matriz de confusión \n",
    "cm = confusion_matrix( y_test, y_pred )\n",
    "cm\n"
   ]
  },
  {
   "cell_type": "code",
   "execution_count": 637,
   "id": "9554034a-6fa1-446a-aa6f-d540291de5f3",
   "metadata": {},
   "outputs": [],
   "source": [
    "#9C)  ALGORITMO DE MACHINE LEARNING : BOSQUE ALEATORIO - RANDON FOREST"
   ]
  },
  {
   "cell_type": "code",
   "execution_count": 36,
   "id": "18c2c26e-dc0b-4f4d-8e60-6a18e4a7c44a",
   "metadata": {},
   "outputs": [
    {
     "name": "stdout",
     "output_type": "stream",
     "text": [
      "[0 0 2 0 0 2 0 2 2 0 0 0 0 0 1 1 0 1 2 1 2 1 2 1 1 0 0 2 0 2 1 0 1 2 1 0 2\n",
      " 1]\n",
      "\n",
      "[0 0 2 0 0 2 0 2 2 0 0 0 0 0 1 1 0 1 2 1 1 1 2 1 1 0 0 2 0 2 2 0 1 2 1 0 2\n",
      " 1]\n"
     ]
    }
   ],
   "source": [
    "# b) Entrenar al modelo 3\n",
    "modelo3.fit( x_train, y_train )\n",
    "\n",
    "y_pred = modelo3.predict( x_test )\n",
    "\n",
    "# Mostrar las predicciones\n",
    "print( y_pred )\n",
    "print()\n",
    "print( y_test.to_numpy() )"
   ]
  },
  {
   "cell_type": "code",
   "execution_count": 37,
   "id": "1ad4dd96-d4ee-4b02-8015-d6637767cde3",
   "metadata": {},
   "outputs": [
    {
     "data": {
      "text/plain": [
       "0.9473684210526315"
      ]
     },
     "execution_count": 37,
     "metadata": {},
     "output_type": "execute_result"
    }
   ],
   "source": [
    "#d) Métricas de Evaluación\n",
    "#d1)Exactitud del modelo 3\n",
    "exactitud3 = accuracy_score(y_test, y_pred)\n",
    "exactitud3"
   ]
  },
  {
   "cell_type": "code",
   "execution_count": 38,
   "id": "042fd117-abb7-4fc7-bcdb-42a09c4ac6eb",
   "metadata": {},
   "outputs": [
    {
     "data": {
      "text/plain": [
       "array([[16,  0,  0],\n",
       "       [ 0, 10,  1],\n",
       "       [ 0,  1, 10]], dtype=int64)"
      ]
     },
     "execution_count": 38,
     "metadata": {},
     "output_type": "execute_result"
    }
   ],
   "source": [
    "#d2) Crear y mostrar la matriz de confusión \n",
    "cm = confusion_matrix( y_test, y_pred )\n",
    "cm\n"
   ]
  },
  {
   "cell_type": "code",
   "execution_count": 641,
   "id": "5a7816f2-db4f-416d-899c-d45c3806721d",
   "metadata": {},
   "outputs": [],
   "source": [
    "#9D)  ALGORITMO DE MACHINE LEARNING : K VECINOS MÁS CERCANOS - K NEIGHBORS"
   ]
  },
  {
   "cell_type": "code",
   "execution_count": 39,
   "id": "060bd423-e97d-4604-8e7c-3b045f238981",
   "metadata": {},
   "outputs": [
    {
     "name": "stdout",
     "output_type": "stream",
     "text": [
      "[0 0 2 0 0 2 0 2 2 0 0 0 0 0 1 1 0 1 2 1 1 1 2 1 1 0 0 2 0 2 1 0 1 2 1 0 2\n",
      " 1]\n",
      "\n",
      "[0 0 2 0 0 2 0 2 2 0 0 0 0 0 1 1 0 1 2 1 1 1 2 1 1 0 0 2 0 2 2 0 1 2 1 0 2\n",
      " 1]\n"
     ]
    }
   ],
   "source": [
    "# b) Entrenar al modelo 4\n",
    "modelo4.fit( x_train, y_train )\n",
    "\n",
    "y_pred = modelo4.predict( x_test )\n",
    "\n",
    "# Mostrar las predicciones\n",
    "print( y_pred )\n",
    "print()\n",
    "print( y_test.to_numpy() )"
   ]
  },
  {
   "cell_type": "code",
   "execution_count": 40,
   "id": "64e06e5c-65ec-4f71-bfd1-0f8f7fc82233",
   "metadata": {},
   "outputs": [
    {
     "data": {
      "text/plain": [
       "0.9736842105263158"
      ]
     },
     "execution_count": 40,
     "metadata": {},
     "output_type": "execute_result"
    }
   ],
   "source": [
    "# d) Métricas de Evaluación\n",
    "# d1) Exactitud del modelo 4\n",
    "exactitud4 = accuracy_score(y_test, y_pred)\n",
    "exactitud4\n",
    "\n",
    "# d2) Crear y mostrar la matriz de confusión \n"
   ]
  },
  {
   "cell_type": "code",
   "execution_count": 41,
   "id": "0e4118b2",
   "metadata": {},
   "outputs": [
    {
     "data": {
      "text/plain": [
       "array([[16,  0,  0],\n",
       "       [ 0, 11,  0],\n",
       "       [ 0,  1, 10]], dtype=int64)"
      ]
     },
     "execution_count": 41,
     "metadata": {},
     "output_type": "execute_result"
    }
   ],
   "source": [
    "cm = confusion_matrix( y_test, y_pred )\n",
    "cm"
   ]
  },
  {
   "cell_type": "code",
   "execution_count": 644,
   "id": "00736f3a-3c4a-4484-a80f-6c82d7306be4",
   "metadata": {},
   "outputs": [],
   "source": [
    "#9E)  ALGORITMO DE MACHINE LEARNING : ÁRBOLES DE DECISIÓN PARA CLASIFICACIÓN - Decision Tree Classifier"
   ]
  },
  {
   "cell_type": "code",
   "execution_count": 43,
   "id": "c78d85f3-4029-4555-a2a9-c197f35f6c10",
   "metadata": {},
   "outputs": [
    {
     "name": "stdout",
     "output_type": "stream",
     "text": [
      "[0 0 2 0 0 1 0 2 2 0 0 0 0 0 1 1 0 1 2 1 2 1 2 1 1 0 0 2 0 2 1 0 1 2 1 0 2\n",
      " 1]\n",
      "\n",
      "[0 0 2 0 0 2 0 2 2 0 0 0 0 0 1 1 0 1 2 1 1 1 2 1 1 0 0 2 0 2 2 0 1 2 1 0 2\n",
      " 1]\n"
     ]
    }
   ],
   "source": [
    "# b) Entrenar al modelo 5\n",
    "modelo5.fit(x_train, y_train)\n",
    "\n",
    "# c) Validar al modelo 5\n",
    "y_pred = modelo5.predict( x_test )\n",
    "\n",
    "# Mostrar las predicciones\n",
    "print( y_pred )\n",
    "print()\n",
    "print( y_test.to_numpy() )\n"
   ]
  },
  {
   "cell_type": "code",
   "execution_count": 44,
   "id": "fc0c0a97-cac9-4fe0-94d4-7038e927c7f6",
   "metadata": {},
   "outputs": [
    {
     "data": {
      "text/plain": [
       "0.9210526315789473"
      ]
     },
     "execution_count": 44,
     "metadata": {},
     "output_type": "execute_result"
    }
   ],
   "source": [
    "# d) Métricas de Evaluación\n",
    "# d1) Exactitud del modelo 5\n",
    "exactitud5 = accuracy_score(y_test, y_pred)\n",
    "exactitud5"
   ]
  },
  {
   "cell_type": "code",
   "execution_count": 45,
   "id": "28d7b9a8-15de-4492-b844-1eb5a1827cd0",
   "metadata": {},
   "outputs": [
    {
     "data": {
      "text/plain": [
       "array([[16,  0,  0],\n",
       "       [ 0, 10,  1],\n",
       "       [ 0,  2,  9]], dtype=int64)"
      ]
     },
     "execution_count": 45,
     "metadata": {},
     "output_type": "execute_result"
    }
   ],
   "source": [
    "# d2) Crear y mostrar la matriz de confusión con un tamaño de figura\n",
    "cm = confusion_matrix( y_test, y_pred )\n",
    "cm"
   ]
  },
  {
   "cell_type": "code",
   "execution_count": 48,
   "id": "153975c4",
   "metadata": {},
   "outputs": [
    {
     "data": {
      "text/html": [
       "<div>\n",
       "<style scoped>\n",
       "    .dataframe tbody tr th:only-of-type {\n",
       "        vertical-align: middle;\n",
       "    }\n",
       "\n",
       "    .dataframe tbody tr th {\n",
       "        vertical-align: top;\n",
       "    }\n",
       "\n",
       "    .dataframe thead th {\n",
       "        text-align: right;\n",
       "    }\n",
       "</style>\n",
       "<table border=\"1\" class=\"dataframe\">\n",
       "  <thead>\n",
       "    <tr style=\"text-align: right;\">\n",
       "      <th></th>\n",
       "      <th>sepal_length</th>\n",
       "      <th>sepal_width</th>\n",
       "      <th>petal_length</th>\n",
       "      <th>petal_width</th>\n",
       "    </tr>\n",
       "  </thead>\n",
       "  <tbody>\n",
       "    <tr>\n",
       "      <th>0</th>\n",
       "      <td>5.3</td>\n",
       "      <td>2.5</td>\n",
       "      <td>4.6</td>\n",
       "      <td>0.8</td>\n",
       "    </tr>\n",
       "  </tbody>\n",
       "</table>\n",
       "</div>"
      ],
      "text/plain": [
       "   sepal_length  sepal_width  petal_length  petal_width\n",
       "0           5.3          2.5           4.6          0.8"
      ]
     },
     "execution_count": 48,
     "metadata": {},
     "output_type": "execute_result"
    }
   ],
   "source": [
    "#Predecir una nueva flor\n",
    "#df.describe()\n",
    "\n",
    "nueva_flor = pd.DataFrame(\n",
    "{ \"sepal_length\":[5.3],\n",
    " \"sepal_width\":[2.5],\n",
    " \"petal_length\":[4.6],\n",
    " \"petal_width\":[0.8]\n",
    "    }\n",
    ")\n",
    "\n",
    "nueva_flor"
   ]
  },
  {
   "cell_type": "code",
   "execution_count": 49,
   "id": "36fada75",
   "metadata": {},
   "outputs": [
    {
     "name": "stdout",
     "output_type": "stream",
     "text": [
      "[1] [1] [1] [1] [1]\n"
     ]
    }
   ],
   "source": [
    "y_pred_modelo1 = modelo1.predict( nueva_flor )\n",
    "y_pred_modelo2 = modelo2.predict( nueva_flor )\n",
    "y_pred_modelo3 = modelo3.predict( nueva_flor )\n",
    "y_pred_modelo4 = modelo4.predict( nueva_flor )\n",
    "y_pred_modelo5 = modelo5.predict( nueva_flor )\n",
    "\n",
    "print( y_pred_modelo1, y_pred_modelo2, y_pred_modelo3, y_pred_modelo4, y_pred_modelo5 )\n"
   ]
  },
  {
   "cell_type": "code",
   "execution_count": null,
   "id": "1a25be2f",
   "metadata": {},
   "outputs": [],
   "source": []
  }
 ],
 "metadata": {
  "kernelspec": {
   "display_name": "Python 3 (ipykernel)",
   "language": "python",
   "name": "python3"
  },
  "language_info": {
   "codemirror_mode": {
    "name": "ipython",
    "version": 3
   },
   "file_extension": ".py",
   "mimetype": "text/x-python",
   "name": "python",
   "nbconvert_exporter": "python",
   "pygments_lexer": "ipython3",
   "version": "3.11.5"
  }
 },
 "nbformat": 4,
 "nbformat_minor": 5
}
